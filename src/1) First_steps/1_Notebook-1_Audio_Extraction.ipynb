{
  "nbformat": 4,
  "nbformat_minor": 0,
  "metadata": {
    "colab": {
      "provenance": [],
      "collapsed_sections": [
        "xVtMFOG6aq9C"
      ]
    },
    "kernelspec": {
      "name": "python3",
      "display_name": "Python 3"
    },
    "language_info": {
      "name": "python"
    }
  },
  "cells": [
    {
      "cell_type": "markdown",
      "source": [
        "#Notebook: Audio Extraction\n",
        "##Author: Lucía Núñez Calvo\n",
        "###Date: 21/03/2024\n",
        "\n",
        "####Summary\n",
        "In this notebook the audio has been extracted from each video and stored in a directory system similar to the one that stores the videos. In this way, a quick association between the original video and the extracted audio is achieved.\n",
        "The final lengths of each file are also shown to check if the audio has been extracted correctly.\n",
        "\n",
        "\n",
        "####Structure of the notebook\n",
        "\n",
        "0.   Installations\n",
        "1.   Checking the directory system\n",
        "2.   Audio extraction\n",
        "3.   Checking the audio extraction\n",
        "\n",
        "\n"
      ],
      "metadata": {
        "id": "8Suq9pTCadIj"
      }
    },
    {
      "cell_type": "code",
      "source": [
        "from google.colab import drive\n",
        "drive.mount('/content/drive')"
      ],
      "metadata": {
        "colab": {
          "base_uri": "https://localhost:8080/"
        },
        "id": "3MywA_58a0f5",
        "outputId": "d38186d4-2de2-4ef0-fdeb-029e835eaec6"
      },
      "execution_count": 1,
      "outputs": [
        {
          "output_type": "stream",
          "name": "stdout",
          "text": [
            "Mounted at /content/drive\n"
          ]
        }
      ]
    },
    {
      "cell_type": "code",
      "source": [
        "from moviepy.editor import VideoFileClip\n",
        "from collections import defaultdict\n",
        "from graphviz import Digraph # To see the directory structure in a picture\n",
        "\n",
        "import os\n",
        "import logging # To minimise the output to the MoviePy console\n",
        "import subprocess  # Required to execute FFmpeg commands\n",
        "import pandas as pd\n",
        "from pydub import AudioSegment"
      ],
      "metadata": {
        "id": "SBzq4Z_moilk"
      },
      "execution_count": 4,
      "outputs": []
    },
    {
      "cell_type": "markdown",
      "source": [
        "### 0. Installations"
      ],
      "metadata": {
        "id": "xVtMFOG6aq9C"
      }
    },
    {
      "cell_type": "code",
      "execution_count": 2,
      "metadata": {
        "colab": {
          "base_uri": "https://localhost:8080/"
        },
        "id": "junung54aaRj",
        "outputId": "8b570167-cfc3-4b17-8002-3ace5bd5a475"
      },
      "outputs": [
        {
          "output_type": "stream",
          "name": "stdout",
          "text": [
            "Reading package lists... Done\n",
            "Building dependency tree... Done\n",
            "Reading state information... Done\n",
            "graphviz is already the newest version (2.42.2-6).\n",
            "0 upgraded, 0 newly installed, 0 to remove and 45 not upgraded.\n",
            "Requirement already satisfied: graphviz in /usr/local/lib/python3.10/dist-packages (0.20.3)\n"
          ]
        }
      ],
      "source": [
        "!apt-get install graphviz\n",
        "!pip install graphviz"
      ]
    },
    {
      "cell_type": "code",
      "source": [
        "pip install pydub"
      ],
      "metadata": {
        "colab": {
          "base_uri": "https://localhost:8080/"
        },
        "id": "A1htHfZLyYmx",
        "outputId": "50b1fe8f-5e5e-4103-af13-14800f5299fb"
      },
      "execution_count": 35,
      "outputs": [
        {
          "output_type": "stream",
          "name": "stdout",
          "text": [
            "Collecting pydub\n",
            "  Downloading pydub-0.25.1-py2.py3-none-any.whl (32 kB)\n",
            "Installing collected packages: pydub\n",
            "Successfully installed pydub-0.25.1\n"
          ]
        }
      ]
    },
    {
      "cell_type": "markdown",
      "source": [
        "### Checking the directory system"
      ],
      "metadata": {
        "id": "9S4JqEnFatp9"
      }
    },
    {
      "cell_type": "code",
      "source": [
        "def display_directory(root, root_name='Root'):\n",
        "    '''\n",
        "    Function to visually present the directory system of the project.\n",
        "    This function presents both directories and subdirectories, avoiding showing the files and showing only the number of files for each extension.\n",
        "\n",
        "    Input:\n",
        "      - root: (str) path of the root directory (Path of the folder containing the video clips).\n",
        "      - root_name: (str) name to be displayed in the root node.\n",
        "    Output: Dot object containing the complete directory structure.\n",
        "\n",
        "    '''\n",
        "    dot = Digraph()\n",
        "    dot.node('Root', root_name, style='filled', color='antiquewhite')\n",
        "\n",
        "    # Creating a set of colours for each level of the directory\n",
        "    colors = ['lightgrey', 'lightblue', 'lightgreen']\n",
        "    color_level = 0\n",
        "\n",
        "    def new_directory(root, father_name, level=0):\n",
        "        nonlocal color_level\n",
        "        # Choose a colour according to the level of depth\n",
        "        actual_color = colors[level % len(colors)]\n",
        "\n",
        "        for d in os.listdir(root):\n",
        "            path = os.path.join(root, d)\n",
        "            node_name = f\"{father_name}_{d}\"\n",
        "\n",
        "            if os.path.isdir(path):\n",
        "                # Checks if it is a directory, if it is a directory creates a node\n",
        "                dot.node(node_name, d, style='filled', color=actual_color)\n",
        "                dot.edge(father_name, node_name)\n",
        "                # Recursively calls the function\n",
        "                new_directory(path, node_name, level+1)\n",
        "            else:\n",
        "                # If it's not a directory and it's files, ignore them\n",
        "                continue\n",
        "\n",
        "        # Count files by extension in the current directory.\n",
        "        files = [f for f in os.listdir(root) if os.path.isfile(os.path.join(root, f))]\n",
        "        extensions = defaultdict(int)\n",
        "        for f in files:\n",
        "            ext = f.split('.')[-1]\n",
        "            extensions[ext] += 1\n",
        "\n",
        "        # Creates a node that summarises the file types and their quantity\n",
        "        if files:\n",
        "            all_files = ''\n",
        "            for ext, count in extensions.items():\n",
        "                if all_files:\n",
        "                    all_files += ', '\n",
        "                all_files += f\"{ext}: {count}\"\n",
        "\n",
        "            dot.node(f\"{father_name}_files\", all_files, shape='box', style='filled', color='lightcoral')\n",
        "            dot.edge(father_name, f\"{father_name}_files\")\n",
        "\n",
        "    new_directory(root, 'Root')\n",
        "    return dot\n",
        "\n",
        "dot = display_directory('drive/MyDrive/TFM/', 'TFM')\n",
        "dot.render('directory_system', format='png')\n",
        "dot"
      ],
      "metadata": {
        "colab": {
          "base_uri": "https://localhost:8080/",
          "height": 368
        },
        "id": "vD4jWxKbatxv",
        "outputId": "c8f23da3-489c-4306-943d-8cee9dc47c72"
      },
      "execution_count": 18,
      "outputs": [
        {
          "output_type": "execute_result",
          "data": {
            "image/svg+xml": "<?xml version=\"1.0\" encoding=\"UTF-8\" standalone=\"no\"?>\n<!DOCTYPE svg PUBLIC \"-//W3C//DTD SVG 1.1//EN\"\n \"http://www.w3.org/Graphics/SVG/1.1/DTD/svg11.dtd\">\n<!-- Generated by graphviz version 2.43.0 (0)\n -->\n<!-- Title: %3 Pages: 1 -->\n<svg width=\"955pt\" height=\"260pt\"\n viewBox=\"0.00 0.00 954.74 260.00\" xmlns=\"http://www.w3.org/2000/svg\" xmlns:xlink=\"http://www.w3.org/1999/xlink\">\n<g id=\"graph0\" class=\"graph\" transform=\"scale(1 1) rotate(0) translate(4 256)\">\n<title>%3</title>\n<polygon fill=\"white\" stroke=\"transparent\" points=\"-4,4 -4,-256 950.74,-256 950.74,4 -4,4\"/>\n<!-- Root -->\n<g id=\"node1\" class=\"node\">\n<title>Root</title>\n<ellipse fill=\"antiquewhite\" stroke=\"antiquewhite\" cx=\"444.5\" cy=\"-234\" rx=\"27.9\" ry=\"18\"/>\n<text text-anchor=\"middle\" x=\"444.5\" y=\"-230.3\" font-family=\"Times,serif\" font-size=\"14.00\">Root</text>\n</g>\n<!-- Root_Videos -->\n<g id=\"node2\" class=\"node\">\n<title>Root_Videos</title>\n<ellipse fill=\"lightgrey\" stroke=\"lightgrey\" cx=\"444.5\" cy=\"-162\" rx=\"35.19\" ry=\"18\"/>\n<text text-anchor=\"middle\" x=\"444.5\" y=\"-158.3\" font-family=\"Times,serif\" font-size=\"14.00\">Videos</text>\n</g>\n<!-- Root&#45;&gt;Root_Videos -->\n<g id=\"edge1\" class=\"edge\">\n<title>Root&#45;&gt;Root_Videos</title>\n<path fill=\"none\" stroke=\"black\" d=\"M444.5,-215.7C444.5,-207.98 444.5,-198.71 444.5,-190.11\"/>\n<polygon fill=\"black\" stroke=\"black\" points=\"448,-190.1 444.5,-180.1 441,-190.1 448,-190.1\"/>\n</g>\n<!-- Root_Videos_Unclassified -->\n<g id=\"node3\" class=\"node\">\n<title>Root_Videos_Unclassified</title>\n<ellipse fill=\"lightblue\" stroke=\"lightblue\" cx=\"84.5\" cy=\"-90\" rx=\"54.69\" ry=\"18\"/>\n<text text-anchor=\"middle\" x=\"84.5\" y=\"-86.3\" font-family=\"Times,serif\" font-size=\"14.00\">Unclassified</text>\n</g>\n<!-- Root_Videos&#45;&gt;Root_Videos_Unclassified -->\n<g id=\"edge2\" class=\"edge\">\n<title>Root_Videos&#45;&gt;Root_Videos_Unclassified</title>\n<path fill=\"none\" stroke=\"black\" d=\"M411.35,-156.05C356.28,-147.61 242.57,-129.27 147.5,-108 143.15,-107.03 138.66,-105.95 134.16,-104.83\"/>\n<polygon fill=\"black\" stroke=\"black\" points=\"134.92,-101.41 124.36,-102.32 133.18,-108.19 134.92,-101.41\"/>\n</g>\n<!-- Root_Videos_Mild_encephalopathy -->\n<g id=\"node5\" class=\"node\">\n<title>Root_Videos_Mild_encephalopathy</title>\n<ellipse fill=\"lightblue\" stroke=\"lightblue\" cx=\"244.5\" cy=\"-90\" rx=\"87.99\" ry=\"18\"/>\n<text text-anchor=\"middle\" x=\"244.5\" y=\"-86.3\" font-family=\"Times,serif\" font-size=\"14.00\">Mild_encephalopathy</text>\n</g>\n<!-- Root_Videos&#45;&gt;Root_Videos_Mild_encephalopathy -->\n<g id=\"edge4\" class=\"edge\">\n<title>Root_Videos&#45;&gt;Root_Videos_Mild_encephalopathy</title>\n<path fill=\"none\" stroke=\"black\" d=\"M416.27,-151.12C385.2,-140.24 334.59,-122.53 296.34,-109.14\"/>\n<polygon fill=\"black\" stroke=\"black\" points=\"297.5,-105.84 286.9,-105.84 295.18,-112.45 297.5,-105.84\"/>\n</g>\n<!-- Root_Videos_Severe_encephalopathy -->\n<g id=\"node7\" class=\"node\">\n<title>Root_Videos_Severe_encephalopathy</title>\n<ellipse fill=\"lightblue\" stroke=\"lightblue\" cx=\"444.5\" cy=\"-90\" rx=\"94.48\" ry=\"18\"/>\n<text text-anchor=\"middle\" x=\"444.5\" y=\"-86.3\" font-family=\"Times,serif\" font-size=\"14.00\">Severe_encephalopathy</text>\n</g>\n<!-- Root_Videos&#45;&gt;Root_Videos_Severe_encephalopathy -->\n<g id=\"edge6\" class=\"edge\">\n<title>Root_Videos&#45;&gt;Root_Videos_Severe_encephalopathy</title>\n<path fill=\"none\" stroke=\"black\" d=\"M444.5,-143.7C444.5,-135.98 444.5,-126.71 444.5,-118.11\"/>\n<polygon fill=\"black\" stroke=\"black\" points=\"448,-118.1 444.5,-108.1 441,-118.1 448,-118.1\"/>\n</g>\n<!-- Root_Videos_Moderate_encephalopathy -->\n<g id=\"node9\" class=\"node\">\n<title>Root_Videos_Moderate_encephalopathy</title>\n<ellipse fill=\"lightblue\" stroke=\"lightblue\" cx=\"661.5\" cy=\"-90\" rx=\"104.78\" ry=\"18\"/>\n<text text-anchor=\"middle\" x=\"661.5\" y=\"-86.3\" font-family=\"Times,serif\" font-size=\"14.00\">Moderate_encephalopathy</text>\n</g>\n<!-- Root_Videos&#45;&gt;Root_Videos_Moderate_encephalopathy -->\n<g id=\"edge8\" class=\"edge\">\n<title>Root_Videos&#45;&gt;Root_Videos_Moderate_encephalopathy</title>\n<path fill=\"none\" stroke=\"black\" d=\"M473.32,-151.7C506.79,-140.91 562.83,-122.83 605.07,-109.2\"/>\n<polygon fill=\"black\" stroke=\"black\" points=\"606.23,-112.51 614.67,-106.11 604.08,-105.85 606.23,-112.51\"/>\n</g>\n<!-- Root_Videos_No_encephalopathy -->\n<g id=\"node11\" class=\"node\">\n<title>Root_Videos_No_encephalopathy</title>\n<ellipse fill=\"lightblue\" stroke=\"lightblue\" cx=\"865.5\" cy=\"-90\" rx=\"81.49\" ry=\"18\"/>\n<text text-anchor=\"middle\" x=\"865.5\" y=\"-86.3\" font-family=\"Times,serif\" font-size=\"14.00\">No_encephalopathy</text>\n</g>\n<!-- Root_Videos&#45;&gt;Root_Videos_No_encephalopathy -->\n<g id=\"edge10\" class=\"edge\">\n<title>Root_Videos&#45;&gt;Root_Videos_No_encephalopathy</title>\n<path fill=\"none\" stroke=\"black\" d=\"M477.91,-155.97C537.69,-146.89 666.86,-126.95 775.5,-108 782.24,-106.82 789.25,-105.56 796.25,-104.28\"/>\n<polygon fill=\"black\" stroke=\"black\" points=\"797.28,-107.65 806.48,-102.39 796.01,-100.77 797.28,-107.65\"/>\n</g>\n<!-- Root_Videos_Unclassified_files -->\n<g id=\"node4\" class=\"node\">\n<title>Root_Videos_Unclassified_files</title>\n<polygon fill=\"lightcoral\" stroke=\"lightcoral\" points=\"169,-36 0,-36 0,0 169,0 169,-36\"/>\n<text text-anchor=\"middle\" x=\"84.5\" y=\"-14.3\" font-family=\"Times,serif\" font-size=\"14.00\">mp4: 26, MOV: 29, mov: 3</text>\n</g>\n<!-- Root_Videos_Unclassified&#45;&gt;Root_Videos_Unclassified_files -->\n<g id=\"edge3\" class=\"edge\">\n<title>Root_Videos_Unclassified&#45;&gt;Root_Videos_Unclassified_files</title>\n<path fill=\"none\" stroke=\"black\" d=\"M84.5,-71.7C84.5,-63.98 84.5,-54.71 84.5,-46.11\"/>\n<polygon fill=\"black\" stroke=\"black\" points=\"88,-46.1 84.5,-36.1 81,-46.1 88,-46.1\"/>\n</g>\n<!-- Root_Videos_Mild_encephalopathy_files -->\n<g id=\"node6\" class=\"node\">\n<title>Root_Videos_Mild_encephalopathy_files</title>\n<polygon fill=\"lightcoral\" stroke=\"lightcoral\" points=\"272.5,-36 216.5,-36 216.5,0 272.5,0 272.5,-36\"/>\n<text text-anchor=\"middle\" x=\"244.5\" y=\"-14.3\" font-family=\"Times,serif\" font-size=\"14.00\">mov: 1</text>\n</g>\n<!-- Root_Videos_Mild_encephalopathy&#45;&gt;Root_Videos_Mild_encephalopathy_files -->\n<g id=\"edge5\" class=\"edge\">\n<title>Root_Videos_Mild_encephalopathy&#45;&gt;Root_Videos_Mild_encephalopathy_files</title>\n<path fill=\"none\" stroke=\"black\" d=\"M244.5,-71.7C244.5,-63.98 244.5,-54.71 244.5,-46.11\"/>\n<polygon fill=\"black\" stroke=\"black\" points=\"248,-46.1 244.5,-36.1 241,-46.1 248,-46.1\"/>\n</g>\n<!-- Root_Videos_Severe_encephalopathy_files -->\n<g id=\"node8\" class=\"node\">\n<title>Root_Videos_Severe_encephalopathy_files</title>\n<polygon fill=\"lightcoral\" stroke=\"lightcoral\" points=\"472.5,-36 416.5,-36 416.5,0 472.5,0 472.5,-36\"/>\n<text text-anchor=\"middle\" x=\"444.5\" y=\"-14.3\" font-family=\"Times,serif\" font-size=\"14.00\">mov: 1</text>\n</g>\n<!-- Root_Videos_Severe_encephalopathy&#45;&gt;Root_Videos_Severe_encephalopathy_files -->\n<g id=\"edge7\" class=\"edge\">\n<title>Root_Videos_Severe_encephalopathy&#45;&gt;Root_Videos_Severe_encephalopathy_files</title>\n<path fill=\"none\" stroke=\"black\" d=\"M444.5,-71.7C444.5,-63.98 444.5,-54.71 444.5,-46.11\"/>\n<polygon fill=\"black\" stroke=\"black\" points=\"448,-46.1 444.5,-36.1 441,-46.1 448,-46.1\"/>\n</g>\n<!-- Root_Videos_Moderate_encephalopathy_files -->\n<g id=\"node10\" class=\"node\">\n<title>Root_Videos_Moderate_encephalopathy_files</title>\n<polygon fill=\"lightcoral\" stroke=\"lightcoral\" points=\"689.5,-36 633.5,-36 633.5,0 689.5,0 689.5,-36\"/>\n<text text-anchor=\"middle\" x=\"661.5\" y=\"-14.3\" font-family=\"Times,serif\" font-size=\"14.00\">mov: 1</text>\n</g>\n<!-- Root_Videos_Moderate_encephalopathy&#45;&gt;Root_Videos_Moderate_encephalopathy_files -->\n<g id=\"edge9\" class=\"edge\">\n<title>Root_Videos_Moderate_encephalopathy&#45;&gt;Root_Videos_Moderate_encephalopathy_files</title>\n<path fill=\"none\" stroke=\"black\" d=\"M661.5,-71.7C661.5,-63.98 661.5,-54.71 661.5,-46.11\"/>\n<polygon fill=\"black\" stroke=\"black\" points=\"665,-46.1 661.5,-36.1 658,-46.1 665,-46.1\"/>\n</g>\n<!-- Root_Videos_No_encephalopathy_files -->\n<g id=\"node12\" class=\"node\">\n<title>Root_Videos_No_encephalopathy_files</title>\n<polygon fill=\"lightcoral\" stroke=\"lightcoral\" points=\"893.5,-36 837.5,-36 837.5,0 893.5,0 893.5,-36\"/>\n<text text-anchor=\"middle\" x=\"865.5\" y=\"-14.3\" font-family=\"Times,serif\" font-size=\"14.00\">mov: 2</text>\n</g>\n<!-- Root_Videos_No_encephalopathy&#45;&gt;Root_Videos_No_encephalopathy_files -->\n<g id=\"edge11\" class=\"edge\">\n<title>Root_Videos_No_encephalopathy&#45;&gt;Root_Videos_No_encephalopathy_files</title>\n<path fill=\"none\" stroke=\"black\" d=\"M865.5,-71.7C865.5,-63.98 865.5,-54.71 865.5,-46.11\"/>\n<polygon fill=\"black\" stroke=\"black\" points=\"869,-46.1 865.5,-36.1 862,-46.1 869,-46.1\"/>\n</g>\n</g>\n</svg>\n",
            "text/plain": [
              "<graphviz.graphs.Digraph at 0x7a73c8944a60>"
            ]
          },
          "metadata": {},
          "execution_count": 18
        }
      ]
    },
    {
      "cell_type": "markdown",
      "source": [
        "### 2. Audio extraction\n",
        "For audio extraction, a directory system has been created that is the same as the directory system containing the videos. In this way the audios can be easily related to the videos to which they belong because they have the same name but different extensions.\n"
      ],
      "metadata": {
        "id": "UYv6GSUylzWm"
      }
    },
    {
      "cell_type": "code",
      "source": [
        "path = 'drive/MyDrive/TFM/'\n",
        "\n",
        "# Creation of the 'Audios' directory\n",
        "audio_path = os.path.join(path, 'Audios')\n",
        "if not os.path.exists(audio_path):\n",
        "    os.makedirs(audio_path)\n",
        "    print('The Audios directory has been created correctly')\n",
        "else:\n",
        "  print('The directory Audios already exists')"
      ],
      "metadata": {
        "colab": {
          "base_uri": "https://localhost:8080/"
        },
        "id": "dLLi9X7xlwAk",
        "outputId": "4d551e09-3716-40d0-a247-ea329cc45f8d"
      },
      "execution_count": 58,
      "outputs": [
        {
          "output_type": "stream",
          "name": "stdout",
          "text": [
            "The Audios directory has been created correctly\n"
          ]
        }
      ]
    },
    {
      "cell_type": "code",
      "source": [
        "# Get all subdirectories in 'Videos'\n",
        "video_dirs = [d for d in os.listdir(os.path.join(path, 'Videos')) if os.path.isdir(os.path.join(path, 'Videos', d))]\n",
        "\n",
        "# Creation of the subdirectories of the directory 'Audios'\n",
        "for dir in video_dirs:\n",
        "    audio_subdir = os.path.join(audio_path, dir)\n",
        "    if not os.path.exists(audio_subdir):\n",
        "        os.makedirs(audio_subdir)\n",
        "        print('Creation of the subdirectory: ', audio_subdir)"
      ],
      "metadata": {
        "colab": {
          "base_uri": "https://localhost:8080/"
        },
        "id": "9NjWTcGsoyJB",
        "outputId": "203bda28-a2ab-4538-fb17-b39a1d03f871"
      },
      "execution_count": 59,
      "outputs": [
        {
          "output_type": "stream",
          "name": "stdout",
          "text": [
            "Creation of the subdirectory:  drive/MyDrive/TFM/Audios/Unclassified\n",
            "Creation of the subdirectory:  drive/MyDrive/TFM/Audios/Mild_encephalopathy\n",
            "Creation of the subdirectory:  drive/MyDrive/TFM/Audios/Severe_encephalopathy\n",
            "Creation of the subdirectory:  drive/MyDrive/TFM/Audios/Moderate_encephalopathy\n",
            "Creation of the subdirectory:  drive/MyDrive/TFM/Audios/No_encephalopathy\n"
          ]
        }
      ]
    },
    {
      "cell_type": "code",
      "source": [
        "# To minimise the output to the MoviePy console\n",
        "logging.getLogger('moviepy').setLevel(logging.ERROR)\n",
        "\n",
        "# List of supported video extensions, although in this case more extensions appear here than we actually have,\n",
        "#it is beneficial to be able to make a code that supports other video extensions in case more data is added in the future.\n",
        "video_extensions = ['.mp4', '.mov', '.m4v', '.mkv', '.MOV']\n",
        "\n",
        "\n",
        "def is_video(filename):\n",
        "    '''\n",
        "    Function to check if the file is a video\n",
        "    Input:\n",
        "      - filename: (str) - name of the file to be verified\n",
        "    Output: (boolean) - True if the file has a video extension, False if it does not have a video extension\n",
        "    '''\n",
        "    return any(filename.endswith(ext) for ext in video_extensions)\n",
        "\n",
        "\n",
        "def extract_audio_ffmpeg(video_path, audio_path):\n",
        "    '''\n",
        "    Function to extract audio using FFmpeg\n",
        "    Input:\n",
        "      - video_path: (str) - path of the video file from which the audio will be extracted\n",
        "      - audio_path: (str) - path where the extracted audio file will be saved\n",
        "    '''\n",
        "    command = f'ffmpeg -i \"{video_path}\" -vn -acodec copy \"{audio_path}\"'\n",
        "    subprocess.call(command, shell=True)\n",
        "\n",
        "\n",
        "def process_videos_and_audios(video_base_path, audio_base_path):\n",
        "    '''\n",
        "    A function that processes the videos to extract the audio.\n",
        "    The audio is extracted with MoviePy and in case it fails, try ffmpeg.\n",
        "    Input:\n",
        "      - video_base_path: (str) - path to the directory containing the video\n",
        "      - video_base_path: (str) - path to the directory that holds the audio file\n",
        "    '''\n",
        "    for subdir in os.listdir(video_base_path):\n",
        "        current_video_path = os.path.join(video_base_path, subdir)\n",
        "        current_audio_path = os.path.join(audio_base_path, subdir)\n",
        "\n",
        "        for filename in os.listdir(current_video_path):\n",
        "            if is_video(filename):\n",
        "                video_path = os.path.join(current_video_path, filename)\n",
        "                audio_filename = os.path.splitext(filename)[0] + '.wav'\n",
        "                audio_path = os.path.join(current_audio_path, audio_filename)\n",
        "\n",
        "                # Checking to avoid reprocessing files\n",
        "                if not os.path.exists(audio_path):\n",
        "                    try:\n",
        "                        video = VideoFileClip(video_path)\n",
        "                        video.audio.write_audiofile(audio_path)\n",
        "                        video.close()\n",
        "                    except Exception as e:\n",
        "                        print(f'Error with MoviePy when processing the file {filename}, trying with FFmpeg: {e}')\n",
        "                        #extract_audio_ffmpeg(video_path, audio_path)\n",
        "                        success = extract_audio_ffmpeg(video_path, audio_path)\n",
        "                        if success:\n",
        "                            print(\"Successful audio extraction with FFmpeg\")\n",
        "                        else:\n",
        "                            print(\"Audio extraction with FFmpeg failed\")\n",
        "path = 'drive/MyDrive/TFM/'\n",
        "video_base_path = os.path.join(path, 'Videos')\n",
        "audio_base_path = os.path.join(path, 'Audios')\n",
        "\n",
        "process_videos_and_audios(video_base_path, audio_base_path)"
      ],
      "metadata": {
        "colab": {
          "base_uri": "https://localhost:8080/"
        },
        "id": "d7CWw_e9qddb",
        "outputId": "fdb8b32e-340f-47c9-e677-a2eb77b9a29b"
      },
      "execution_count": 15,
      "outputs": [
        {
          "output_type": "stream",
          "name": "stdout",
          "text": [
            "MoviePy - Writing audio in drive/MyDrive/TFM/Audios/Unclassified/39ae6684-c030-4008-ba0c-05551075d2bb.wav\n"
          ]
        },
        {
          "output_type": "stream",
          "name": "stderr",
          "text": []
        },
        {
          "output_type": "stream",
          "name": "stdout",
          "text": [
            "MoviePy - Done.\n",
            "MoviePy - Writing audio in drive/MyDrive/TFM/Audios/Unclassified/47f38257-5a56-4814-b569-54d1c217719e.wav\n"
          ]
        },
        {
          "output_type": "stream",
          "name": "stderr",
          "text": []
        },
        {
          "output_type": "stream",
          "name": "stdout",
          "text": [
            "MoviePy - Done.\n",
            "MoviePy - Writing audio in drive/MyDrive/TFM/Audios/Unclassified/0c84b92c-9996-4970-bece-10680196d8d9.wav\n"
          ]
        },
        {
          "output_type": "stream",
          "name": "stderr",
          "text": []
        },
        {
          "output_type": "stream",
          "name": "stdout",
          "text": [
            "MoviePy - Done.\n",
            "MoviePy - Writing audio in drive/MyDrive/TFM/Audios/Unclassified/0887b999-d13d-4234-b8ef-c28e93977198.wav\n"
          ]
        },
        {
          "output_type": "stream",
          "name": "stderr",
          "text": []
        },
        {
          "output_type": "stream",
          "name": "stdout",
          "text": [
            "MoviePy - Done.\n",
            "MoviePy - Writing audio in drive/MyDrive/TFM/Audios/Unclassified/1181fa2b-8916-45d7-8009-ab2784701b54.wav\n"
          ]
        },
        {
          "output_type": "stream",
          "name": "stderr",
          "text": []
        },
        {
          "output_type": "stream",
          "name": "stdout",
          "text": [
            "MoviePy - Done.\n",
            "MoviePy - Writing audio in drive/MyDrive/TFM/Audios/Unclassified/2d54d51a-4e2d-4538-9cba-38dde7866fee.wav\n"
          ]
        },
        {
          "output_type": "stream",
          "name": "stderr",
          "text": []
        },
        {
          "output_type": "stream",
          "name": "stdout",
          "text": [
            "MoviePy - Done.\n",
            "MoviePy - Writing audio in drive/MyDrive/TFM/Audios/Unclassified/097e9d10-cd40-42b4-aad3-9a497eef1c00.wav\n"
          ]
        },
        {
          "output_type": "stream",
          "name": "stderr",
          "text": []
        },
        {
          "output_type": "stream",
          "name": "stdout",
          "text": [
            "MoviePy - Done.\n",
            "MoviePy - Writing audio in drive/MyDrive/TFM/Audios/Unclassified/3aadd8c0-e7a4-48c2-b36d-0be45257a728.wav\n"
          ]
        },
        {
          "output_type": "stream",
          "name": "stderr",
          "text": []
        },
        {
          "output_type": "stream",
          "name": "stdout",
          "text": [
            "MoviePy - Done.\n",
            "MoviePy - Writing audio in drive/MyDrive/TFM/Audios/Unclassified/15 días sano.wav\n"
          ]
        },
        {
          "output_type": "stream",
          "name": "stderr",
          "text": []
        },
        {
          "output_type": "stream",
          "name": "stdout",
          "text": [
            "MoviePy - Done.\n",
            "MoviePy - Writing audio in drive/MyDrive/TFM/Audios/Unclassified/19687e15-ce84-45ff-b297-868c8c86d123.wav\n"
          ]
        },
        {
          "output_type": "stream",
          "name": "stderr",
          "text": []
        },
        {
          "output_type": "stream",
          "name": "stdout",
          "text": [
            "MoviePy - Done.\n",
            "MoviePy - Writing audio in drive/MyDrive/TFM/Audios/Unclassified/6b21f241-19af-4031-ad2b-0c3c67da528c.wav\n"
          ]
        },
        {
          "output_type": "stream",
          "name": "stderr",
          "text": []
        },
        {
          "output_type": "stream",
          "name": "stdout",
          "text": [
            "MoviePy - Done.\n",
            "MoviePy - Writing audio in drive/MyDrive/TFM/Audios/Unclassified/4f51bd1f-ab28-4efb-ba18-771c6a52021a.wav\n"
          ]
        },
        {
          "output_type": "stream",
          "name": "stderr",
          "text": []
        },
        {
          "output_type": "stream",
          "name": "stdout",
          "text": [
            "MoviePy - Done.\n",
            "MoviePy - Writing audio in drive/MyDrive/TFM/Audios/Unclassified/4920a275-cdc5-4950-a782-f715ac57fe9b.wav\n"
          ]
        },
        {
          "output_type": "stream",
          "name": "stderr",
          "text": []
        },
        {
          "output_type": "stream",
          "name": "stdout",
          "text": [
            "MoviePy - Done.\n",
            "MoviePy - Writing audio in drive/MyDrive/TFM/Audios/Unclassified/8bfee8ab-06c3-454a-b096-a75b2036ae0c.wav\n"
          ]
        },
        {
          "output_type": "stream",
          "name": "stderr",
          "text": []
        },
        {
          "output_type": "stream",
          "name": "stdout",
          "text": [
            "MoviePy - Done.\n",
            "MoviePy - Writing audio in drive/MyDrive/TFM/Audios/Unclassified/9950d18e-d3a6-427e-b518-39ac7995d1c3.wav\n"
          ]
        },
        {
          "output_type": "stream",
          "name": "stderr",
          "text": []
        },
        {
          "output_type": "stream",
          "name": "stdout",
          "text": [
            "MoviePy - Done.\n",
            "MoviePy - Writing audio in drive/MyDrive/TFM/Audios/Unclassified/bee58c70-e0e0-4dca-9aa7-6be78600b9c6.wav\n"
          ]
        },
        {
          "output_type": "stream",
          "name": "stderr",
          "text": []
        },
        {
          "output_type": "stream",
          "name": "stdout",
          "text": [
            "MoviePy - Done.\n",
            "MoviePy - Writing audio in drive/MyDrive/TFM/Audios/Unclassified/7455c553-96ee-47ed-987e-57e7e163d224.wav\n"
          ]
        },
        {
          "output_type": "stream",
          "name": "stderr",
          "text": []
        },
        {
          "output_type": "stream",
          "name": "stdout",
          "text": [
            "MoviePy - Done.\n",
            "MoviePy - Writing audio in drive/MyDrive/TFM/Audios/Unclassified/a34bf8fe-7383-401f-9f2c-7fb3b96b908a.wav\n"
          ]
        },
        {
          "output_type": "stream",
          "name": "stderr",
          "text": []
        },
        {
          "output_type": "stream",
          "name": "stdout",
          "text": [
            "MoviePy - Done.\n",
            "MoviePy - Writing audio in drive/MyDrive/TFM/Audios/Unclassified/4b1ba263-b0d9-4576-8f60-2523dac01095.wav\n"
          ]
        },
        {
          "output_type": "stream",
          "name": "stderr",
          "text": []
        },
        {
          "output_type": "stream",
          "name": "stdout",
          "text": [
            "MoviePy - Done.\n",
            "MoviePy - Writing audio in drive/MyDrive/TFM/Audios/Unclassified/76f45f11-f143-4f52-872f-245df2cc1de0.wav\n"
          ]
        },
        {
          "output_type": "stream",
          "name": "stderr",
          "text": []
        },
        {
          "output_type": "stream",
          "name": "stdout",
          "text": [
            "MoviePy - Done.\n",
            "MoviePy - Writing audio in drive/MyDrive/TFM/Audios/Unclassified/Ejemplo no-letargia.wav\n"
          ]
        },
        {
          "output_type": "stream",
          "name": "stderr",
          "text": []
        },
        {
          "output_type": "stream",
          "name": "stdout",
          "text": [
            "MoviePy - Done.\n",
            "MoviePy - Writing audio in drive/MyDrive/TFM/Audios/Unclassified/c90fc377-59d7-40c6-85cd-b6ea1a870d10.wav\n"
          ]
        },
        {
          "output_type": "stream",
          "name": "stderr",
          "text": []
        },
        {
          "output_type": "stream",
          "name": "stdout",
          "text": [
            "MoviePy - Done.\n",
            "MoviePy - Writing audio in drive/MyDrive/TFM/Audios/Unclassified/c8f57eb5-a7ea-4ebd-acc4-cbf8e3e5d98c.wav\n"
          ]
        },
        {
          "output_type": "stream",
          "name": "stderr",
          "text": []
        },
        {
          "output_type": "stream",
          "name": "stdout",
          "text": [
            "MoviePy - Done.\n",
            "MoviePy - Writing audio in drive/MyDrive/TFM/Audios/Unclassified/e344c01e-d1ab-4d3d-9f3d-0e5f5083dcaf.wav\n"
          ]
        },
        {
          "output_type": "stream",
          "name": "stderr",
          "text": []
        },
        {
          "output_type": "stream",
          "name": "stdout",
          "text": [
            "MoviePy - Done.\n",
            "MoviePy - Writing audio in drive/MyDrive/TFM/Audios/Unclassified/Ejemplo posicion grabacion_2.wav\n"
          ]
        },
        {
          "output_type": "stream",
          "name": "stderr",
          "text": []
        },
        {
          "output_type": "stream",
          "name": "stdout",
          "text": [
            "MoviePy - Done.\n",
            "MoviePy - Writing audio in drive/MyDrive/TFM/Audios/Unclassified/ce4c23ad-5f06-4fb4-aa8c-e3aaf0386f15.wav\n"
          ]
        },
        {
          "output_type": "stream",
          "name": "stderr",
          "text": []
        },
        {
          "output_type": "stream",
          "name": "stdout",
          "text": [
            "MoviePy - Done.\n",
            "MoviePy - Writing audio in drive/MyDrive/TFM/Audios/Unclassified/caba7c3e-ad77-41ab-b8d7-019785b0e739.wav\n"
          ]
        },
        {
          "output_type": "stream",
          "name": "stderr",
          "text": []
        },
        {
          "output_type": "stream",
          "name": "stdout",
          "text": [
            "MoviePy - Done.\n",
            "MoviePy - Writing audio in drive/MyDrive/TFM/Audios/Unclassified/IMG_1983.wav\n"
          ]
        },
        {
          "output_type": "stream",
          "name": "stderr",
          "text": []
        },
        {
          "output_type": "stream",
          "name": "stdout",
          "text": [
            "MoviePy - Done.\n",
            "MoviePy - Writing audio in drive/MyDrive/TFM/Audios/Unclassified/IMG_0927.wav\n"
          ]
        },
        {
          "output_type": "stream",
          "name": "stderr",
          "text": []
        },
        {
          "output_type": "stream",
          "name": "stdout",
          "text": [
            "MoviePy - Done.\n",
            "MoviePy - Writing audio in drive/MyDrive/TFM/Audios/Unclassified/IMG_1838.wav\n"
          ]
        },
        {
          "output_type": "stream",
          "name": "stderr",
          "text": []
        },
        {
          "output_type": "stream",
          "name": "stdout",
          "text": [
            "MoviePy - Done.\n",
            "MoviePy - Writing audio in drive/MyDrive/TFM/Audios/Unclassified/IMG_1982.wav\n"
          ]
        },
        {
          "output_type": "stream",
          "name": "stderr",
          "text": []
        },
        {
          "output_type": "stream",
          "name": "stdout",
          "text": [
            "MoviePy - Done.\n",
            "MoviePy - Writing audio in drive/MyDrive/TFM/Audios/Unclassified/IMG_2130.wav\n"
          ]
        },
        {
          "output_type": "stream",
          "name": "stderr",
          "text": []
        },
        {
          "output_type": "stream",
          "name": "stdout",
          "text": [
            "MoviePy - Done.\n",
            "MoviePy - Writing audio in drive/MyDrive/TFM/Audios/Unclassified/IMG_2112.wav\n"
          ]
        },
        {
          "output_type": "stream",
          "name": "stderr",
          "text": []
        },
        {
          "output_type": "stream",
          "name": "stdout",
          "text": [
            "MoviePy - Done.\n",
            "MoviePy - Writing audio in drive/MyDrive/TFM/Audios/Unclassified/IMG_1837.wav\n"
          ]
        },
        {
          "output_type": "stream",
          "name": "stderr",
          "text": []
        },
        {
          "output_type": "stream",
          "name": "stdout",
          "text": [
            "MoviePy - Done.\n",
            "MoviePy - Writing audio in drive/MyDrive/TFM/Audios/Unclassified/f31eac9b-e8d0-4915-b25c-98fdb11380d7.wav\n"
          ]
        },
        {
          "output_type": "stream",
          "name": "stderr",
          "text": []
        },
        {
          "output_type": "stream",
          "name": "stdout",
          "text": [
            "MoviePy - Done.\n",
            "MoviePy - Writing audio in drive/MyDrive/TFM/Audios/Unclassified/IMG_2841.wav\n"
          ]
        },
        {
          "output_type": "stream",
          "name": "stderr",
          "text": [
            "                                                                    "
          ]
        },
        {
          "output_type": "stream",
          "name": "stdout",
          "text": [
            "MoviePy - Done.\n"
          ]
        },
        {
          "output_type": "stream",
          "name": "stderr",
          "text": [
            "\r"
          ]
        },
        {
          "output_type": "stream",
          "name": "stdout",
          "text": [
            "MoviePy - Writing audio in drive/MyDrive/TFM/Audios/Unclassified/IMG_2843.wav\n"
          ]
        },
        {
          "output_type": "stream",
          "name": "stderr",
          "text": []
        },
        {
          "output_type": "stream",
          "name": "stdout",
          "text": [
            "MoviePy - Done.\n",
            "MoviePy - Writing audio in drive/MyDrive/TFM/Audios/Unclassified/IMG_2842.wav\n"
          ]
        },
        {
          "output_type": "stream",
          "name": "stderr",
          "text": []
        },
        {
          "output_type": "stream",
          "name": "stdout",
          "text": [
            "MoviePy - Done.\n",
            "MoviePy - Writing audio in drive/MyDrive/TFM/Audios/Unclassified/IMG_2136.wav\n"
          ]
        },
        {
          "output_type": "stream",
          "name": "stderr",
          "text": []
        },
        {
          "output_type": "stream",
          "name": "stdout",
          "text": [
            "MoviePy - Done.\n",
            "MoviePy - Writing audio in drive/MyDrive/TFM/Audios/Unclassified/IMG_3055.wav\n"
          ]
        },
        {
          "output_type": "stream",
          "name": "stderr",
          "text": []
        },
        {
          "output_type": "stream",
          "name": "stdout",
          "text": [
            "MoviePy - Done.\n",
            "MoviePy - Writing audio in drive/MyDrive/TFM/Audios/Unclassified/IMG_2829.wav\n"
          ]
        },
        {
          "output_type": "stream",
          "name": "stderr",
          "text": []
        },
        {
          "output_type": "stream",
          "name": "stdout",
          "text": [
            "MoviePy - Done.\n",
            "MoviePy - Writing audio in drive/MyDrive/TFM/Audios/Unclassified/IMG_2137.wav\n"
          ]
        },
        {
          "output_type": "stream",
          "name": "stderr",
          "text": []
        },
        {
          "output_type": "stream",
          "name": "stdout",
          "text": [
            "MoviePy - Done.\n",
            "MoviePy - Writing audio in drive/MyDrive/TFM/Audios/Unclassified/IMG_3056.wav\n"
          ]
        },
        {
          "output_type": "stream",
          "name": "stderr",
          "text": []
        },
        {
          "output_type": "stream",
          "name": "stdout",
          "text": [
            "MoviePy - Done.\n",
            "MoviePy - Writing audio in drive/MyDrive/TFM/Audios/Unclassified/IMG_3183.wav\n"
          ]
        },
        {
          "output_type": "stream",
          "name": "stderr",
          "text": []
        },
        {
          "output_type": "stream",
          "name": "stdout",
          "text": [
            "MoviePy - Done.\n",
            "MoviePy - Writing audio in drive/MyDrive/TFM/Audios/Unclassified/IMG_3079.wav\n"
          ]
        },
        {
          "output_type": "stream",
          "name": "stderr",
          "text": []
        },
        {
          "output_type": "stream",
          "name": "stdout",
          "text": [
            "MoviePy - Done.\n",
            "MoviePy - Writing audio in drive/MyDrive/TFM/Audios/Unclassified/IMG_3059.wav\n"
          ]
        },
        {
          "output_type": "stream",
          "name": "stderr",
          "text": []
        },
        {
          "output_type": "stream",
          "name": "stdout",
          "text": [
            "MoviePy - Done.\n",
            "MoviePy - Writing audio in drive/MyDrive/TFM/Audios/Unclassified/IMG_3089.wav\n"
          ]
        },
        {
          "output_type": "stream",
          "name": "stderr",
          "text": []
        },
        {
          "output_type": "stream",
          "name": "stdout",
          "text": [
            "MoviePy - Done.\n",
            "MoviePy - Writing audio in drive/MyDrive/TFM/Audios/Unclassified/IMG_3060.wav\n"
          ]
        },
        {
          "output_type": "stream",
          "name": "stderr",
          "text": []
        },
        {
          "output_type": "stream",
          "name": "stdout",
          "text": [
            "MoviePy - Done.\n",
            "MoviePy - Writing audio in drive/MyDrive/TFM/Audios/Unclassified/IMG_8908.wav\n"
          ]
        },
        {
          "output_type": "stream",
          "name": "stderr",
          "text": []
        },
        {
          "output_type": "stream",
          "name": "stdout",
          "text": [
            "MoviePy - Done.\n",
            "MoviePy - Writing audio in drive/MyDrive/TFM/Audios/Unclassified/IMG_8867.wav\n"
          ]
        },
        {
          "output_type": "stream",
          "name": "stderr",
          "text": []
        },
        {
          "output_type": "stream",
          "name": "stdout",
          "text": [
            "MoviePy - Done.\n",
            "MoviePy - Writing audio in drive/MyDrive/TFM/Audios/Unclassified/IMG_9428.wav\n"
          ]
        },
        {
          "output_type": "stream",
          "name": "stderr",
          "text": []
        },
        {
          "output_type": "stream",
          "name": "stdout",
          "text": [
            "MoviePy - Done.\n",
            "MoviePy - Writing audio in drive/MyDrive/TFM/Audios/Unclassified/IMG_3232.wav\n"
          ]
        },
        {
          "output_type": "stream",
          "name": "stderr",
          "text": []
        },
        {
          "output_type": "stream",
          "name": "stdout",
          "text": [
            "MoviePy - Done.\n",
            "MoviePy - Writing audio in drive/MyDrive/TFM/Audios/Unclassified/IMG_8487.wav\n"
          ]
        },
        {
          "output_type": "stream",
          "name": "stderr",
          "text": []
        },
        {
          "output_type": "stream",
          "name": "stdout",
          "text": [
            "MoviePy - Done.\n",
            "MoviePy - Writing audio in drive/MyDrive/TFM/Audios/Unclassified/IMG_8922.wav\n"
          ]
        },
        {
          "output_type": "stream",
          "name": "stderr",
          "text": []
        },
        {
          "output_type": "stream",
          "name": "stdout",
          "text": [
            "MoviePy - Done.\n",
            "MoviePy - Writing audio in drive/MyDrive/TFM/Audios/Unclassified/IMG_9979_272_A_JA_contención.wav\n"
          ]
        },
        {
          "output_type": "stream",
          "name": "stderr",
          "text": []
        },
        {
          "output_type": "stream",
          "name": "stdout",
          "text": [
            "MoviePy - Done.\n",
            "MoviePy - Writing audio in drive/MyDrive/TFM/Audios/Unclassified/CAU5h26022013.wav\n"
          ]
        },
        {
          "output_type": "stream",
          "name": "stderr",
          "text": []
        },
        {
          "output_type": "stream",
          "name": "stdout",
          "text": [
            "MoviePy - Done.\n",
            "MoviePy - Writing audio in drive/MyDrive/TFM/Audios/Unclassified/CAA1h04102012.wav\n"
          ]
        },
        {
          "output_type": "stream",
          "name": "stderr",
          "text": []
        },
        {
          "output_type": "stream",
          "name": "stdout",
          "text": [
            "MoviePy - Done.\n",
            "MoviePy - Writing audio in drive/MyDrive/TFM/Audios/Unclassified/CAU1h26022012.wav\n"
          ]
        },
        {
          "output_type": "stream",
          "name": "stderr",
          "text": []
        },
        {
          "output_type": "stream",
          "name": "stdout",
          "text": [
            "MoviePy - Done.\n",
            "MoviePy - Writing audio in drive/MyDrive/TFM/Audios/Severe_encephalopathy/ARAHIP_08062011_1hora.wav\n"
          ]
        },
        {
          "output_type": "stream",
          "name": "stderr",
          "text": []
        },
        {
          "output_type": "stream",
          "name": "stdout",
          "text": [
            "MoviePy - Done.\n",
            "MoviePy - Writing audio in drive/MyDrive/TFM/Audios/Moderate_encephalopathy/let.wav\n"
          ]
        },
        {
          "output_type": "stream",
          "name": "stderr",
          "text": []
        },
        {
          "output_type": "stream",
          "name": "stdout",
          "text": [
            "MoviePy - Done.\n",
            "MoviePy - Writing audio in drive/MyDrive/TFM/Audios/No_encephalopathy/no_let.wav\n"
          ]
        },
        {
          "output_type": "stream",
          "name": "stderr",
          "text": []
        },
        {
          "output_type": "stream",
          "name": "stdout",
          "text": [
            "MoviePy - Done.\n",
            "MoviePy - Writing audio in drive/MyDrive/TFM/Audios/No_encephalopathy/no_let2.wav\n"
          ]
        },
        {
          "output_type": "stream",
          "name": "stderr",
          "text": [
            "                                                                      "
          ]
        },
        {
          "output_type": "stream",
          "name": "stdout",
          "text": [
            "MoviePy - Done.\n"
          ]
        },
        {
          "output_type": "stream",
          "name": "stderr",
          "text": [
            "\r"
          ]
        }
      ]
    },
    {
      "cell_type": "markdown",
      "source": [
        "### 3. Checking the audio extraction"
      ],
      "metadata": {
        "id": "vKuC8D3zwvum"
      }
    },
    {
      "cell_type": "code",
      "source": [
        "video_path = 'drive/MyDrive/TFM/Videos/'\n",
        "audio_path = 'drive/MyDrive/TFM/Audios/'\n",
        "\n",
        "# List for storing the results\n",
        "data = []\n",
        "\n",
        "def get_media_duration(path):\n",
        "    '''\n",
        "    This function calculates the duration of a video or audio file.\n",
        "    Input:\n",
        "      - path: (str)  - path to the directory containing the video or audio\n",
        "    Output:\n",
        "      - duration: (float) - file duration in seconds\n",
        "    '''\n",
        "    duration = None\n",
        "    try:\n",
        "        if path.lower().endswith(('.mp4', '.m4v', '.mov', '.MOV')):\n",
        "            clip = VideoFileClip(path)\n",
        "            duration = clip.duration\n",
        "            clip.close()\n",
        "        elif path.lower().endswith(('.wav', '.mp3')):\n",
        "            audio = AudioSegment.from_file(path, format=\"mp3\", parameters=[\"-loglevel\", \"panic\"])\n",
        "            duration = len(audio) / 1000.0\n",
        "        return duration\n",
        "\n",
        "    except Exception as e:\n",
        "        print(f\"Error in processing {path}: {e}\")\n",
        "        return duration\n",
        "\n",
        "\n",
        "# Browse through the subdirectories and files in the 'Videos' directory\n",
        "for subdir, dirs, files in os.walk(video_path):\n",
        "    category = os.path.basename(subdir) # Subdirectory name as category\n",
        "    for file in files:\n",
        "        video_path = os.path.join(subdir, file)\n",
        "        video_duration = get_media_duration(video_path) # Duration of the video\n",
        "\n",
        "        # Check if the category and file exist in the dictionary\n",
        "        if category not in data:\n",
        "            data[category] = {}\n",
        "        data[category][file] = {'Video_duration': video_duration}\n",
        "\n",
        "\n",
        "# Browse through the subdirectories and files in the 'Audios' directory\n",
        "for subdir, dirs, files in os.walk(audio_path):\n",
        "    category = os.path.basename(subdir) # Subdirectory name as category\n",
        "    for file in files:\n",
        "        audio_path = os.path.join(subdir, file)\n",
        "        audio_duration = get_media_duration(audio_path) # Duration of the audio\n",
        "\n",
        "        # Find the audio that corresponds to the video, it will have the same name but different extension\n",
        "        base_name = os.path.splitext(file)[0]\n",
        "        video_file_names = [f for f in data.get(category, {}) if f.startswith(base_name)]\n",
        "        for video_file_name in video_file_names:\n",
        "            data[category][video_file_name]['Audio_duration'] = audio_duration\n",
        "\n",
        "\n",
        "# Convert dictionary to DataFrame\n",
        "all_data = []\n",
        "for category, files in data.items():\n",
        "    for file, durations in files.items():\n",
        "        all_data.append({\n",
        "            'Category': category,\n",
        "            'File': file,\n",
        "            'Video_duration': durations.get('Video_duration'),\n",
        "            'Audio_duration': durations.get('Audio_duration')\n",
        "        })\n",
        "\n",
        "# Crear DataFrame\n",
        "video_audio_duration = pd.DataFrame(all_data)\n",
        "video_audio_duration.to_csv('video_audio_duration.csv')\n",
        "video_audio_duration"
      ],
      "metadata": {
        "colab": {
          "base_uri": "https://localhost:8080/",
          "height": 424
        },
        "id": "SLSZBOnl62Pb",
        "outputId": "c81a6322-bd79-4b66-b996-8732a552cec4"
      },
      "execution_count": 52,
      "outputs": [
        {
          "output_type": "execute_result",
          "data": {
            "text/plain": [
              "                   Category                                      File  \\\n",
              "0              Unclassified  39ae6684-c030-4008-ba0c-05551075d2bb.mp4   \n",
              "1              Unclassified  47f38257-5a56-4814-b569-54d1c217719e.mp4   \n",
              "2              Unclassified  0c84b92c-9996-4970-bece-10680196d8d9.mp4   \n",
              "3              Unclassified  0887b999-d13d-4234-b8ef-c28e93977198.mp4   \n",
              "4              Unclassified  1181fa2b-8916-45d7-8009-ab2784701b54.mp4   \n",
              "..                      ...                                       ...   \n",
              "58      Mild_encephalopathy                      ARAHIP1H12082011.mov   \n",
              "59    Severe_encephalopathy                 ARAHIP_08062011_1hora.mov   \n",
              "60  Moderate_encephalopathy                                   let.mov   \n",
              "61        No_encephalopathy                                no_let.mov   \n",
              "62        No_encephalopathy                               no_let2.mov   \n",
              "\n",
              "    Video_duration  Audio_duration  \n",
              "0           317.42          317.42  \n",
              "1           113.92          113.92  \n",
              "2           285.00          285.00  \n",
              "3           264.52          264.52  \n",
              "4           237.96          237.96  \n",
              "..             ...             ...  \n",
              "58          340.08          340.08  \n",
              "59          992.48          992.48  \n",
              "60           90.70           90.70  \n",
              "61           89.40           89.40  \n",
              "62           55.08           55.08  \n",
              "\n",
              "[63 rows x 4 columns]"
            ],
            "text/html": [
              "\n",
              "  <div id=\"df-a88a37a5-2607-4380-955a-99e3782bac83\" class=\"colab-df-container\">\n",
              "    <div>\n",
              "<style scoped>\n",
              "    .dataframe tbody tr th:only-of-type {\n",
              "        vertical-align: middle;\n",
              "    }\n",
              "\n",
              "    .dataframe tbody tr th {\n",
              "        vertical-align: top;\n",
              "    }\n",
              "\n",
              "    .dataframe thead th {\n",
              "        text-align: right;\n",
              "    }\n",
              "</style>\n",
              "<table border=\"1\" class=\"dataframe\">\n",
              "  <thead>\n",
              "    <tr style=\"text-align: right;\">\n",
              "      <th></th>\n",
              "      <th>Category</th>\n",
              "      <th>File</th>\n",
              "      <th>Video_duration</th>\n",
              "      <th>Audio_duration</th>\n",
              "    </tr>\n",
              "  </thead>\n",
              "  <tbody>\n",
              "    <tr>\n",
              "      <th>0</th>\n",
              "      <td>Unclassified</td>\n",
              "      <td>39ae6684-c030-4008-ba0c-05551075d2bb.mp4</td>\n",
              "      <td>317.42</td>\n",
              "      <td>317.42</td>\n",
              "    </tr>\n",
              "    <tr>\n",
              "      <th>1</th>\n",
              "      <td>Unclassified</td>\n",
              "      <td>47f38257-5a56-4814-b569-54d1c217719e.mp4</td>\n",
              "      <td>113.92</td>\n",
              "      <td>113.92</td>\n",
              "    </tr>\n",
              "    <tr>\n",
              "      <th>2</th>\n",
              "      <td>Unclassified</td>\n",
              "      <td>0c84b92c-9996-4970-bece-10680196d8d9.mp4</td>\n",
              "      <td>285.00</td>\n",
              "      <td>285.00</td>\n",
              "    </tr>\n",
              "    <tr>\n",
              "      <th>3</th>\n",
              "      <td>Unclassified</td>\n",
              "      <td>0887b999-d13d-4234-b8ef-c28e93977198.mp4</td>\n",
              "      <td>264.52</td>\n",
              "      <td>264.52</td>\n",
              "    </tr>\n",
              "    <tr>\n",
              "      <th>4</th>\n",
              "      <td>Unclassified</td>\n",
              "      <td>1181fa2b-8916-45d7-8009-ab2784701b54.mp4</td>\n",
              "      <td>237.96</td>\n",
              "      <td>237.96</td>\n",
              "    </tr>\n",
              "    <tr>\n",
              "      <th>...</th>\n",
              "      <td>...</td>\n",
              "      <td>...</td>\n",
              "      <td>...</td>\n",
              "      <td>...</td>\n",
              "    </tr>\n",
              "    <tr>\n",
              "      <th>58</th>\n",
              "      <td>Mild_encephalopathy</td>\n",
              "      <td>ARAHIP1H12082011.mov</td>\n",
              "      <td>340.08</td>\n",
              "      <td>340.08</td>\n",
              "    </tr>\n",
              "    <tr>\n",
              "      <th>59</th>\n",
              "      <td>Severe_encephalopathy</td>\n",
              "      <td>ARAHIP_08062011_1hora.mov</td>\n",
              "      <td>992.48</td>\n",
              "      <td>992.48</td>\n",
              "    </tr>\n",
              "    <tr>\n",
              "      <th>60</th>\n",
              "      <td>Moderate_encephalopathy</td>\n",
              "      <td>let.mov</td>\n",
              "      <td>90.70</td>\n",
              "      <td>90.70</td>\n",
              "    </tr>\n",
              "    <tr>\n",
              "      <th>61</th>\n",
              "      <td>No_encephalopathy</td>\n",
              "      <td>no_let.mov</td>\n",
              "      <td>89.40</td>\n",
              "      <td>89.40</td>\n",
              "    </tr>\n",
              "    <tr>\n",
              "      <th>62</th>\n",
              "      <td>No_encephalopathy</td>\n",
              "      <td>no_let2.mov</td>\n",
              "      <td>55.08</td>\n",
              "      <td>55.08</td>\n",
              "    </tr>\n",
              "  </tbody>\n",
              "</table>\n",
              "<p>63 rows × 4 columns</p>\n",
              "</div>\n",
              "    <div class=\"colab-df-buttons\">\n",
              "\n",
              "  <div class=\"colab-df-container\">\n",
              "    <button class=\"colab-df-convert\" onclick=\"convertToInteractive('df-a88a37a5-2607-4380-955a-99e3782bac83')\"\n",
              "            title=\"Convert this dataframe to an interactive table.\"\n",
              "            style=\"display:none;\">\n",
              "\n",
              "  <svg xmlns=\"http://www.w3.org/2000/svg\" height=\"24px\" viewBox=\"0 -960 960 960\">\n",
              "    <path d=\"M120-120v-720h720v720H120Zm60-500h600v-160H180v160Zm220 220h160v-160H400v160Zm0 220h160v-160H400v160ZM180-400h160v-160H180v160Zm440 0h160v-160H620v160ZM180-180h160v-160H180v160Zm440 0h160v-160H620v160Z\"/>\n",
              "  </svg>\n",
              "    </button>\n",
              "\n",
              "  <style>\n",
              "    .colab-df-container {\n",
              "      display:flex;\n",
              "      gap: 12px;\n",
              "    }\n",
              "\n",
              "    .colab-df-convert {\n",
              "      background-color: #E8F0FE;\n",
              "      border: none;\n",
              "      border-radius: 50%;\n",
              "      cursor: pointer;\n",
              "      display: none;\n",
              "      fill: #1967D2;\n",
              "      height: 32px;\n",
              "      padding: 0 0 0 0;\n",
              "      width: 32px;\n",
              "    }\n",
              "\n",
              "    .colab-df-convert:hover {\n",
              "      background-color: #E2EBFA;\n",
              "      box-shadow: 0px 1px 2px rgba(60, 64, 67, 0.3), 0px 1px 3px 1px rgba(60, 64, 67, 0.15);\n",
              "      fill: #174EA6;\n",
              "    }\n",
              "\n",
              "    .colab-df-buttons div {\n",
              "      margin-bottom: 4px;\n",
              "    }\n",
              "\n",
              "    [theme=dark] .colab-df-convert {\n",
              "      background-color: #3B4455;\n",
              "      fill: #D2E3FC;\n",
              "    }\n",
              "\n",
              "    [theme=dark] .colab-df-convert:hover {\n",
              "      background-color: #434B5C;\n",
              "      box-shadow: 0px 1px 3px 1px rgba(0, 0, 0, 0.15);\n",
              "      filter: drop-shadow(0px 1px 2px rgba(0, 0, 0, 0.3));\n",
              "      fill: #FFFFFF;\n",
              "    }\n",
              "  </style>\n",
              "\n",
              "    <script>\n",
              "      const buttonEl =\n",
              "        document.querySelector('#df-a88a37a5-2607-4380-955a-99e3782bac83 button.colab-df-convert');\n",
              "      buttonEl.style.display =\n",
              "        google.colab.kernel.accessAllowed ? 'block' : 'none';\n",
              "\n",
              "      async function convertToInteractive(key) {\n",
              "        const element = document.querySelector('#df-a88a37a5-2607-4380-955a-99e3782bac83');\n",
              "        const dataTable =\n",
              "          await google.colab.kernel.invokeFunction('convertToInteractive',\n",
              "                                                    [key], {});\n",
              "        if (!dataTable) return;\n",
              "\n",
              "        const docLinkHtml = 'Like what you see? Visit the ' +\n",
              "          '<a target=\"_blank\" href=https://colab.research.google.com/notebooks/data_table.ipynb>data table notebook</a>'\n",
              "          + ' to learn more about interactive tables.';\n",
              "        element.innerHTML = '';\n",
              "        dataTable['output_type'] = 'display_data';\n",
              "        await google.colab.output.renderOutput(dataTable, element);\n",
              "        const docLink = document.createElement('div');\n",
              "        docLink.innerHTML = docLinkHtml;\n",
              "        element.appendChild(docLink);\n",
              "      }\n",
              "    </script>\n",
              "  </div>\n",
              "\n",
              "\n",
              "<div id=\"df-b400cb19-ed39-49be-86e3-c27937709646\">\n",
              "  <button class=\"colab-df-quickchart\" onclick=\"quickchart('df-b400cb19-ed39-49be-86e3-c27937709646')\"\n",
              "            title=\"Suggest charts\"\n",
              "            style=\"display:none;\">\n",
              "\n",
              "<svg xmlns=\"http://www.w3.org/2000/svg\" height=\"24px\"viewBox=\"0 0 24 24\"\n",
              "     width=\"24px\">\n",
              "    <g>\n",
              "        <path d=\"M19 3H5c-1.1 0-2 .9-2 2v14c0 1.1.9 2 2 2h14c1.1 0 2-.9 2-2V5c0-1.1-.9-2-2-2zM9 17H7v-7h2v7zm4 0h-2V7h2v10zm4 0h-2v-4h2v4z\"/>\n",
              "    </g>\n",
              "</svg>\n",
              "  </button>\n",
              "\n",
              "<style>\n",
              "  .colab-df-quickchart {\n",
              "      --bg-color: #E8F0FE;\n",
              "      --fill-color: #1967D2;\n",
              "      --hover-bg-color: #E2EBFA;\n",
              "      --hover-fill-color: #174EA6;\n",
              "      --disabled-fill-color: #AAA;\n",
              "      --disabled-bg-color: #DDD;\n",
              "  }\n",
              "\n",
              "  [theme=dark] .colab-df-quickchart {\n",
              "      --bg-color: #3B4455;\n",
              "      --fill-color: #D2E3FC;\n",
              "      --hover-bg-color: #434B5C;\n",
              "      --hover-fill-color: #FFFFFF;\n",
              "      --disabled-bg-color: #3B4455;\n",
              "      --disabled-fill-color: #666;\n",
              "  }\n",
              "\n",
              "  .colab-df-quickchart {\n",
              "    background-color: var(--bg-color);\n",
              "    border: none;\n",
              "    border-radius: 50%;\n",
              "    cursor: pointer;\n",
              "    display: none;\n",
              "    fill: var(--fill-color);\n",
              "    height: 32px;\n",
              "    padding: 0;\n",
              "    width: 32px;\n",
              "  }\n",
              "\n",
              "  .colab-df-quickchart:hover {\n",
              "    background-color: var(--hover-bg-color);\n",
              "    box-shadow: 0 1px 2px rgba(60, 64, 67, 0.3), 0 1px 3px 1px rgba(60, 64, 67, 0.15);\n",
              "    fill: var(--button-hover-fill-color);\n",
              "  }\n",
              "\n",
              "  .colab-df-quickchart-complete:disabled,\n",
              "  .colab-df-quickchart-complete:disabled:hover {\n",
              "    background-color: var(--disabled-bg-color);\n",
              "    fill: var(--disabled-fill-color);\n",
              "    box-shadow: none;\n",
              "  }\n",
              "\n",
              "  .colab-df-spinner {\n",
              "    border: 2px solid var(--fill-color);\n",
              "    border-color: transparent;\n",
              "    border-bottom-color: var(--fill-color);\n",
              "    animation:\n",
              "      spin 1s steps(1) infinite;\n",
              "  }\n",
              "\n",
              "  @keyframes spin {\n",
              "    0% {\n",
              "      border-color: transparent;\n",
              "      border-bottom-color: var(--fill-color);\n",
              "      border-left-color: var(--fill-color);\n",
              "    }\n",
              "    20% {\n",
              "      border-color: transparent;\n",
              "      border-left-color: var(--fill-color);\n",
              "      border-top-color: var(--fill-color);\n",
              "    }\n",
              "    30% {\n",
              "      border-color: transparent;\n",
              "      border-left-color: var(--fill-color);\n",
              "      border-top-color: var(--fill-color);\n",
              "      border-right-color: var(--fill-color);\n",
              "    }\n",
              "    40% {\n",
              "      border-color: transparent;\n",
              "      border-right-color: var(--fill-color);\n",
              "      border-top-color: var(--fill-color);\n",
              "    }\n",
              "    60% {\n",
              "      border-color: transparent;\n",
              "      border-right-color: var(--fill-color);\n",
              "    }\n",
              "    80% {\n",
              "      border-color: transparent;\n",
              "      border-right-color: var(--fill-color);\n",
              "      border-bottom-color: var(--fill-color);\n",
              "    }\n",
              "    90% {\n",
              "      border-color: transparent;\n",
              "      border-bottom-color: var(--fill-color);\n",
              "    }\n",
              "  }\n",
              "</style>\n",
              "\n",
              "  <script>\n",
              "    async function quickchart(key) {\n",
              "      const quickchartButtonEl =\n",
              "        document.querySelector('#' + key + ' button');\n",
              "      quickchartButtonEl.disabled = true;  // To prevent multiple clicks.\n",
              "      quickchartButtonEl.classList.add('colab-df-spinner');\n",
              "      try {\n",
              "        const charts = await google.colab.kernel.invokeFunction(\n",
              "            'suggestCharts', [key], {});\n",
              "      } catch (error) {\n",
              "        console.error('Error during call to suggestCharts:', error);\n",
              "      }\n",
              "      quickchartButtonEl.classList.remove('colab-df-spinner');\n",
              "      quickchartButtonEl.classList.add('colab-df-quickchart-complete');\n",
              "    }\n",
              "    (() => {\n",
              "      let quickchartButtonEl =\n",
              "        document.querySelector('#df-b400cb19-ed39-49be-86e3-c27937709646 button');\n",
              "      quickchartButtonEl.style.display =\n",
              "        google.colab.kernel.accessAllowed ? 'block' : 'none';\n",
              "    })();\n",
              "  </script>\n",
              "</div>\n",
              "    </div>\n",
              "  </div>\n"
            ],
            "application/vnd.google.colaboratory.intrinsic+json": {
              "type": "dataframe",
              "variable_name": "df",
              "summary": "{\n  \"name\": \"df\",\n  \"rows\": 63,\n  \"fields\": [\n    {\n      \"column\": \"Category\",\n      \"properties\": {\n        \"dtype\": \"category\",\n        \"num_unique_values\": 5,\n        \"samples\": [\n          \"Mild_encephalopathy\",\n          \"No_encephalopathy\",\n          \"Severe_encephalopathy\"\n        ],\n        \"semantic_type\": \"\",\n        \"description\": \"\"\n      }\n    },\n    {\n      \"column\": \"File\",\n      \"properties\": {\n        \"dtype\": \"string\",\n        \"num_unique_values\": 63,\n        \"samples\": [\n          \"no_let.mov\",\n          \"CAU1h26022012.mov\",\n          \"39ae6684-c030-4008-ba0c-05551075d2bb.mp4\"\n        ],\n        \"semantic_type\": \"\",\n        \"description\": \"\"\n      }\n    },\n    {\n      \"column\": \"Video_duration\",\n      \"properties\": {\n        \"dtype\": \"number\",\n        \"std\": 172.9140399434789,\n        \"min\": 10.24,\n        \"max\": 992.48,\n        \"num_unique_values\": 63,\n        \"samples\": [\n          89.4,\n          567.97,\n          317.42\n        ],\n        \"semantic_type\": \"\",\n        \"description\": \"\"\n      }\n    },\n    {\n      \"column\": \"Audio_duration\",\n      \"properties\": {\n        \"dtype\": \"number\",\n        \"std\": 172.9140399434789,\n        \"min\": 10.24,\n        \"max\": 992.48,\n        \"num_unique_values\": 63,\n        \"samples\": [\n          89.4,\n          567.97,\n          317.42\n        ],\n        \"semantic_type\": \"\",\n        \"description\": \"\"\n      }\n    }\n  ]\n}"
            }
          },
          "metadata": {},
          "execution_count": 52
        }
      ]
    },
    {
      "source": [
        "# @title Category\n",
        "\n",
        "from matplotlib import pyplot as plt\n",
        "import seaborn as sns\n",
        "df.groupby('Category').size().plot(kind='barh', color=sns.palettes.mpl_palette('Dark2'))\n",
        "plt.gca().spines[['top', 'right',]].set_visible(False)"
      ],
      "cell_type": "code",
      "execution_count": 53,
      "outputs": [
        {
          "output_type": "display_data",
          "data": {
            "text/plain": [
              "<Figure size 640x480 with 1 Axes>"
            ],
            "image/png": "[encoded data removed]"
          },
          "metadata": {}
        }
      ],
      "metadata": {
        "cellView": "form",
        "colab": {
          "base_uri": "https://localhost:8080/",
          "height": 430
        },
        "id": "8KSyI8KK7PwI",
        "outputId": "f9ec2084-c71f-43a0-ec24-0c3b05266f38"
      }
    },
    {
      "cell_type": "code",
      "source": [
        "dot = display_directory('drive/MyDrive/TFM/', 'TFM')\n",
        "dot.render('directory_system', format='png')\n",
        "dot"
      ],
      "metadata": {
        "colab": {
          "base_uri": "https://localhost:8080/",
          "height": 388
        },
        "id": "wCnzI0Aaqp-5",
        "outputId": "1fa2672c-5408-4533-dc29-1177a83776bf"
      },
      "execution_count": 7,
      "outputs": [
        {
          "output_type": "execute_result",
          "data": {
            "image/svg+xml": "<?xml version=\"1.0\" encoding=\"UTF-8\" standalone=\"no\"?>\n<!DOCTYPE svg PUBLIC \"-//W3C//DTD SVG 1.1//EN\"\n \"http://www.w3.org/Graphics/SVG/1.1/DTD/svg11.dtd\">\n<!-- Generated by graphviz version 2.43.0 (0)\n -->\n<!-- Title: %3 Pages: 1 -->\n<svg width=\"1890pt\" height=\"260pt\"\n viewBox=\"0.00 0.00 1889.74 260.00\" xmlns=\"http://www.w3.org/2000/svg\" xmlns:xlink=\"http://www.w3.org/1999/xlink\">\n<g id=\"graph0\" class=\"graph\" transform=\"scale(1 1) rotate(0) translate(4 256)\">\n<title>%3</title>\n<polygon fill=\"white\" stroke=\"transparent\" points=\"-4,4 -4,-256 1885.74,-256 1885.74,4 -4,4\"/>\n<!-- Root -->\n<g id=\"node1\" class=\"node\">\n<title>Root</title>\n<ellipse fill=\"antiquewhite\" stroke=\"antiquewhite\" cx=\"812.5\" cy=\"-234\" rx=\"29.5\" ry=\"18\"/>\n<text text-anchor=\"middle\" x=\"812.5\" y=\"-230.3\" font-family=\"Times,serif\" font-size=\"14.00\">TFM</text>\n</g>\n<!-- Root_Videos -->\n<g id=\"node2\" class=\"node\">\n<title>Root_Videos</title>\n<ellipse fill=\"lightgrey\" stroke=\"lightgrey\" cx=\"553.5\" cy=\"-162\" rx=\"35.19\" ry=\"18\"/>\n<text text-anchor=\"middle\" x=\"553.5\" y=\"-158.3\" font-family=\"Times,serif\" font-size=\"14.00\">Videos</text>\n</g>\n<!-- Root&#45;&gt;Root_Videos -->\n<g id=\"edge1\" class=\"edge\">\n<title>Root&#45;&gt;Root_Videos</title>\n<path fill=\"none\" stroke=\"black\" d=\"M786.24,-225.9C740.81,-213.63 647.29,-188.35 593.65,-173.85\"/>\n<polygon fill=\"black\" stroke=\"black\" points=\"594.37,-170.42 583.8,-171.19 592.55,-177.18 594.37,-170.42\"/>\n</g>\n<!-- Root_Audios -->\n<g id=\"node13\" class=\"node\">\n<title>Root_Audios</title>\n<ellipse fill=\"lightgrey\" stroke=\"lightgrey\" cx=\"1279.5\" cy=\"-162\" rx=\"36.29\" ry=\"18\"/>\n<text text-anchor=\"middle\" x=\"1279.5\" y=\"-158.3\" font-family=\"Times,serif\" font-size=\"14.00\">Audios</text>\n</g>\n<!-- Root&#45;&gt;Root_Audios -->\n<g id=\"edge12\" class=\"edge\">\n<title>Root&#45;&gt;Root_Audios</title>\n<path fill=\"none\" stroke=\"black\" d=\"M840.66,-228.78C918.97,-217.04 1139.8,-183.94 1234.96,-169.68\"/>\n<polygon fill=\"black\" stroke=\"black\" points=\"1235.75,-173.1 1245.12,-168.15 1234.71,-166.18 1235.75,-173.1\"/>\n</g>\n<!-- Root_Videos_Unclassified -->\n<g id=\"node3\" class=\"node\">\n<title>Root_Videos_Unclassified</title>\n<ellipse fill=\"lightblue\" stroke=\"lightblue\" cx=\"84.5\" cy=\"-90\" rx=\"54.69\" ry=\"18\"/>\n<text text-anchor=\"middle\" x=\"84.5\" y=\"-86.3\" font-family=\"Times,serif\" font-size=\"14.00\">Unclassified</text>\n</g>\n<!-- Root_Videos&#45;&gt;Root_Videos_Unclassified -->\n<g id=\"edge2\" class=\"edge\">\n<title>Root_Videos&#45;&gt;Root_Videos_Unclassified</title>\n<path fill=\"none\" stroke=\"black\" d=\"M519.03,-158.07C448.7,-151.75 283.79,-135.16 147.5,-108 143.07,-107.12 138.49,-106.1 133.91,-105\"/>\n<polygon fill=\"black\" stroke=\"black\" points=\"134.52,-101.55 123.97,-102.52 132.82,-108.34 134.52,-101.55\"/>\n</g>\n<!-- Root_Videos_Mild_encephalopathy -->\n<g id=\"node5\" class=\"node\">\n<title>Root_Videos_Mild_encephalopathy</title>\n<ellipse fill=\"lightblue\" stroke=\"lightblue\" cx=\"244.5\" cy=\"-90\" rx=\"87.99\" ry=\"18\"/>\n<text text-anchor=\"middle\" x=\"244.5\" y=\"-86.3\" font-family=\"Times,serif\" font-size=\"14.00\">Mild_encephalopathy</text>\n</g>\n<!-- Root_Videos&#45;&gt;Root_Videos_Mild_encephalopathy -->\n<g id=\"edge4\" class=\"edge\">\n<title>Root_Videos&#45;&gt;Root_Videos_Mild_encephalopathy</title>\n<path fill=\"none\" stroke=\"black\" d=\"M521.88,-153.84C472.51,-142.65 376,-120.79 310.88,-106.04\"/>\n<polygon fill=\"black\" stroke=\"black\" points=\"311.63,-102.62 301.11,-103.82 310.09,-109.45 311.63,-102.62\"/>\n</g>\n<!-- Root_Videos_Severe_encephalopathy -->\n<g id=\"node7\" class=\"node\">\n<title>Root_Videos_Severe_encephalopathy</title>\n<ellipse fill=\"lightblue\" stroke=\"lightblue\" cx=\"444.5\" cy=\"-90\" rx=\"94.48\" ry=\"18\"/>\n<text text-anchor=\"middle\" x=\"444.5\" y=\"-86.3\" font-family=\"Times,serif\" font-size=\"14.00\">Severe_encephalopathy</text>\n</g>\n<!-- Root_Videos&#45;&gt;Root_Videos_Severe_encephalopathy -->\n<g id=\"edge6\" class=\"edge\">\n<title>Root_Videos&#45;&gt;Root_Videos_Severe_encephalopathy</title>\n<path fill=\"none\" stroke=\"black\" d=\"M532.48,-147.5C517.31,-137.76 496.49,-124.39 478.91,-113.1\"/>\n<polygon fill=\"black\" stroke=\"black\" points=\"480.36,-109.87 470.06,-107.41 476.58,-115.76 480.36,-109.87\"/>\n</g>\n<!-- Root_Videos_Moderate_encephalopathy -->\n<g id=\"node9\" class=\"node\">\n<title>Root_Videos_Moderate_encephalopathy</title>\n<ellipse fill=\"lightblue\" stroke=\"lightblue\" cx=\"661.5\" cy=\"-90\" rx=\"104.78\" ry=\"18\"/>\n<text text-anchor=\"middle\" x=\"661.5\" y=\"-86.3\" font-family=\"Times,serif\" font-size=\"14.00\">Moderate_encephalopathy</text>\n</g>\n<!-- Root_Videos&#45;&gt;Root_Videos_Moderate_encephalopathy -->\n<g id=\"edge8\" class=\"edge\">\n<title>Root_Videos&#45;&gt;Root_Videos_Moderate_encephalopathy</title>\n<path fill=\"none\" stroke=\"black\" d=\"M574.32,-147.5C589.25,-137.83 609.7,-124.57 627.05,-113.33\"/>\n<polygon fill=\"black\" stroke=\"black\" points=\"629.3,-116.04 635.79,-107.67 625.49,-110.17 629.3,-116.04\"/>\n</g>\n<!-- Root_Videos_No_encephalopathy -->\n<g id=\"node11\" class=\"node\">\n<title>Root_Videos_No_encephalopathy</title>\n<ellipse fill=\"lightblue\" stroke=\"lightblue\" cx=\"865.5\" cy=\"-90\" rx=\"81.49\" ry=\"18\"/>\n<text text-anchor=\"middle\" x=\"865.5\" y=\"-86.3\" font-family=\"Times,serif\" font-size=\"14.00\">No_encephalopathy</text>\n</g>\n<!-- Root_Videos&#45;&gt;Root_Videos_No_encephalopathy -->\n<g id=\"edge10\" class=\"edge\">\n<title>Root_Videos&#45;&gt;Root_Videos_No_encephalopathy</title>\n<path fill=\"none\" stroke=\"black\" d=\"M585.13,-153.9C635.46,-142.61 734.77,-120.33 800.66,-105.55\"/>\n<polygon fill=\"black\" stroke=\"black\" points=\"801.54,-108.94 810.53,-103.33 800.01,-102.11 801.54,-108.94\"/>\n</g>\n<!-- Root_Videos_Unclassified_files -->\n<g id=\"node4\" class=\"node\">\n<title>Root_Videos_Unclassified_files</title>\n<polygon fill=\"lightcoral\" stroke=\"lightcoral\" points=\"169,-36 0,-36 0,0 169,0 169,-36\"/>\n<text text-anchor=\"middle\" x=\"84.5\" y=\"-14.3\" font-family=\"Times,serif\" font-size=\"14.00\">mp4: 26, MOV: 29, mov: 3</text>\n</g>\n<!-- Root_Videos_Unclassified&#45;&gt;Root_Videos_Unclassified_files -->\n<g id=\"edge3\" class=\"edge\">\n<title>Root_Videos_Unclassified&#45;&gt;Root_Videos_Unclassified_files</title>\n<path fill=\"none\" stroke=\"black\" d=\"M84.5,-71.7C84.5,-63.98 84.5,-54.71 84.5,-46.11\"/>\n<polygon fill=\"black\" stroke=\"black\" points=\"88,-46.1 84.5,-36.1 81,-46.1 88,-46.1\"/>\n</g>\n<!-- Root_Videos_Mild_encephalopathy_files -->\n<g id=\"node6\" class=\"node\">\n<title>Root_Videos_Mild_encephalopathy_files</title>\n<polygon fill=\"lightcoral\" stroke=\"lightcoral\" points=\"272.5,-36 216.5,-36 216.5,0 272.5,0 272.5,-36\"/>\n<text text-anchor=\"middle\" x=\"244.5\" y=\"-14.3\" font-family=\"Times,serif\" font-size=\"14.00\">mov: 1</text>\n</g>\n<!-- Root_Videos_Mild_encephalopathy&#45;&gt;Root_Videos_Mild_encephalopathy_files -->\n<g id=\"edge5\" class=\"edge\">\n<title>Root_Videos_Mild_encephalopathy&#45;&gt;Root_Videos_Mild_encephalopathy_files</title>\n<path fill=\"none\" stroke=\"black\" d=\"M244.5,-71.7C244.5,-63.98 244.5,-54.71 244.5,-46.11\"/>\n<polygon fill=\"black\" stroke=\"black\" points=\"248,-46.1 244.5,-36.1 241,-46.1 248,-46.1\"/>\n</g>\n<!-- Root_Videos_Severe_encephalopathy_files -->\n<g id=\"node8\" class=\"node\">\n<title>Root_Videos_Severe_encephalopathy_files</title>\n<polygon fill=\"lightcoral\" stroke=\"lightcoral\" points=\"472.5,-36 416.5,-36 416.5,0 472.5,0 472.5,-36\"/>\n<text text-anchor=\"middle\" x=\"444.5\" y=\"-14.3\" font-family=\"Times,serif\" font-size=\"14.00\">mov: 1</text>\n</g>\n<!-- Root_Videos_Severe_encephalopathy&#45;&gt;Root_Videos_Severe_encephalopathy_files -->\n<g id=\"edge7\" class=\"edge\">\n<title>Root_Videos_Severe_encephalopathy&#45;&gt;Root_Videos_Severe_encephalopathy_files</title>\n<path fill=\"none\" stroke=\"black\" d=\"M444.5,-71.7C444.5,-63.98 444.5,-54.71 444.5,-46.11\"/>\n<polygon fill=\"black\" stroke=\"black\" points=\"448,-46.1 444.5,-36.1 441,-46.1 448,-46.1\"/>\n</g>\n<!-- Root_Videos_Moderate_encephalopathy_files -->\n<g id=\"node10\" class=\"node\">\n<title>Root_Videos_Moderate_encephalopathy_files</title>\n<polygon fill=\"lightcoral\" stroke=\"lightcoral\" points=\"689.5,-36 633.5,-36 633.5,0 689.5,0 689.5,-36\"/>\n<text text-anchor=\"middle\" x=\"661.5\" y=\"-14.3\" font-family=\"Times,serif\" font-size=\"14.00\">mov: 1</text>\n</g>\n<!-- Root_Videos_Moderate_encephalopathy&#45;&gt;Root_Videos_Moderate_encephalopathy_files -->\n<g id=\"edge9\" class=\"edge\">\n<title>Root_Videos_Moderate_encephalopathy&#45;&gt;Root_Videos_Moderate_encephalopathy_files</title>\n<path fill=\"none\" stroke=\"black\" d=\"M661.5,-71.7C661.5,-63.98 661.5,-54.71 661.5,-46.11\"/>\n<polygon fill=\"black\" stroke=\"black\" points=\"665,-46.1 661.5,-36.1 658,-46.1 665,-46.1\"/>\n</g>\n<!-- Root_Videos_No_encephalopathy_files -->\n<g id=\"node12\" class=\"node\">\n<title>Root_Videos_No_encephalopathy_files</title>\n<polygon fill=\"lightcoral\" stroke=\"lightcoral\" points=\"893.5,-36 837.5,-36 837.5,0 893.5,0 893.5,-36\"/>\n<text text-anchor=\"middle\" x=\"865.5\" y=\"-14.3\" font-family=\"Times,serif\" font-size=\"14.00\">mov: 2</text>\n</g>\n<!-- Root_Videos_No_encephalopathy&#45;&gt;Root_Videos_No_encephalopathy_files -->\n<g id=\"edge11\" class=\"edge\">\n<title>Root_Videos_No_encephalopathy&#45;&gt;Root_Videos_No_encephalopathy_files</title>\n<path fill=\"none\" stroke=\"black\" d=\"M865.5,-71.7C865.5,-63.98 865.5,-54.71 865.5,-46.11\"/>\n<polygon fill=\"black\" stroke=\"black\" points=\"869,-46.1 865.5,-36.1 862,-46.1 869,-46.1\"/>\n</g>\n<!-- Root_Audios_Unclassified -->\n<g id=\"node14\" class=\"node\">\n<title>Root_Audios_Unclassified</title>\n<ellipse fill=\"lightblue\" stroke=\"lightblue\" cx=\"1019.5\" cy=\"-90\" rx=\"54.69\" ry=\"18\"/>\n<text text-anchor=\"middle\" x=\"1019.5\" y=\"-86.3\" font-family=\"Times,serif\" font-size=\"14.00\">Unclassified</text>\n</g>\n<!-- Root_Audios&#45;&gt;Root_Audios_Unclassified -->\n<g id=\"edge13\" class=\"edge\">\n<title>Root_Audios&#45;&gt;Root_Audios_Unclassified</title>\n<path fill=\"none\" stroke=\"black\" d=\"M1248.11,-152.56C1209.23,-142.11 1140.98,-123.76 1082.5,-108 1078.5,-106.92 1074.36,-105.81 1070.2,-104.68\"/>\n<polygon fill=\"black\" stroke=\"black\" points=\"1071.07,-101.29 1060.5,-102.07 1069.25,-108.05 1071.07,-101.29\"/>\n</g>\n<!-- Root_Audios_Mild_encephalopathy -->\n<g id=\"node16\" class=\"node\">\n<title>Root_Audios_Mild_encephalopathy</title>\n<ellipse fill=\"lightblue\" stroke=\"lightblue\" cx=\"1179.5\" cy=\"-90\" rx=\"87.99\" ry=\"18\"/>\n<text text-anchor=\"middle\" x=\"1179.5\" y=\"-86.3\" font-family=\"Times,serif\" font-size=\"14.00\">Mild_encephalopathy</text>\n</g>\n<!-- Root_Audios&#45;&gt;Root_Audios_Mild_encephalopathy -->\n<g id=\"edge15\" class=\"edge\">\n<title>Root_Audios&#45;&gt;Root_Audios_Mild_encephalopathy</title>\n<path fill=\"none\" stroke=\"black\" d=\"M1259.26,-146.83C1245.49,-137.19 1226.98,-124.24 1211.26,-113.23\"/>\n<polygon fill=\"black\" stroke=\"black\" points=\"1213.06,-110.22 1202.86,-107.35 1209.05,-115.96 1213.06,-110.22\"/>\n</g>\n<!-- Root_Audios_Severe_encephalopathy -->\n<g id=\"node18\" class=\"node\">\n<title>Root_Audios_Severe_encephalopathy</title>\n<ellipse fill=\"lightblue\" stroke=\"lightblue\" cx=\"1379.5\" cy=\"-90\" rx=\"94.48\" ry=\"18\"/>\n<text text-anchor=\"middle\" x=\"1379.5\" y=\"-86.3\" font-family=\"Times,serif\" font-size=\"14.00\">Severe_encephalopathy</text>\n</g>\n<!-- Root_Audios&#45;&gt;Root_Audios_Severe_encephalopathy -->\n<g id=\"edge17\" class=\"edge\">\n<title>Root_Audios&#45;&gt;Root_Audios_Severe_encephalopathy</title>\n<path fill=\"none\" stroke=\"black\" d=\"M1299.74,-146.83C1313.41,-137.26 1331.76,-124.42 1347.41,-113.46\"/>\n<polygon fill=\"black\" stroke=\"black\" points=\"1349.59,-116.21 1355.78,-107.61 1345.58,-110.47 1349.59,-116.21\"/>\n</g>\n<!-- Root_Audios_Moderate_encephalopathy -->\n<g id=\"node20\" class=\"node\">\n<title>Root_Audios_Moderate_encephalopathy</title>\n<ellipse fill=\"lightblue\" stroke=\"lightblue\" cx=\"1596.5\" cy=\"-90\" rx=\"104.78\" ry=\"18\"/>\n<text text-anchor=\"middle\" x=\"1596.5\" y=\"-86.3\" font-family=\"Times,serif\" font-size=\"14.00\">Moderate_encephalopathy</text>\n</g>\n<!-- Root_Audios&#45;&gt;Root_Audios_Moderate_encephalopathy -->\n<g id=\"edge19\" class=\"edge\">\n<title>Root_Audios&#45;&gt;Root_Audios_Moderate_encephalopathy</title>\n<path fill=\"none\" stroke=\"black\" d=\"M1312.23,-153.77C1362.11,-142.76 1458.37,-121.5 1524.96,-106.8\"/>\n<polygon fill=\"black\" stroke=\"black\" points=\"1525.96,-110.16 1534.97,-104.59 1524.45,-103.33 1525.96,-110.16\"/>\n</g>\n<!-- Root_Audios_No_encephalopathy -->\n<g id=\"node22\" class=\"node\">\n<title>Root_Audios_No_encephalopathy</title>\n<ellipse fill=\"lightblue\" stroke=\"lightblue\" cx=\"1800.5\" cy=\"-90\" rx=\"81.49\" ry=\"18\"/>\n<text text-anchor=\"middle\" x=\"1800.5\" y=\"-86.3\" font-family=\"Times,serif\" font-size=\"14.00\">No_encephalopathy</text>\n</g>\n<!-- Root_Audios&#45;&gt;Root_Audios_No_encephalopathy -->\n<g id=\"edge21\" class=\"edge\">\n<title>Root_Audios&#45;&gt;Root_Audios_No_encephalopathy</title>\n<path fill=\"none\" stroke=\"black\" d=\"M1314.8,-157.44C1388.52,-149.82 1564.12,-130.8 1710.5,-108 1717.52,-106.91 1724.83,-105.68 1732.12,-104.39\"/>\n<polygon fill=\"black\" stroke=\"black\" points=\"1732.79,-107.83 1742.01,-102.61 1731.55,-100.94 1732.79,-107.83\"/>\n</g>\n<!-- Root_Audios_Unclassified_files -->\n<g id=\"node15\" class=\"node\">\n<title>Root_Audios_Unclassified_files</title>\n<polygon fill=\"lightcoral\" stroke=\"lightcoral\" points=\"1049.5,-36 989.5,-36 989.5,0 1049.5,0 1049.5,-36\"/>\n<text text-anchor=\"middle\" x=\"1019.5\" y=\"-14.3\" font-family=\"Times,serif\" font-size=\"14.00\">wav: 58</text>\n</g>\n<!-- Root_Audios_Unclassified&#45;&gt;Root_Audios_Unclassified_files -->\n<g id=\"edge14\" class=\"edge\">\n<title>Root_Audios_Unclassified&#45;&gt;Root_Audios_Unclassified_files</title>\n<path fill=\"none\" stroke=\"black\" d=\"M1019.5,-71.7C1019.5,-63.98 1019.5,-54.71 1019.5,-46.11\"/>\n<polygon fill=\"black\" stroke=\"black\" points=\"1023,-46.1 1019.5,-36.1 1016,-46.1 1023,-46.1\"/>\n</g>\n<!-- Root_Audios_Mild_encephalopathy_files -->\n<g id=\"node17\" class=\"node\">\n<title>Root_Audios_Mild_encephalopathy_files</title>\n<polygon fill=\"lightcoral\" stroke=\"lightcoral\" points=\"1206.5,-36 1152.5,-36 1152.5,0 1206.5,0 1206.5,-36\"/>\n<text text-anchor=\"middle\" x=\"1179.5\" y=\"-14.3\" font-family=\"Times,serif\" font-size=\"14.00\">wav: 1</text>\n</g>\n<!-- Root_Audios_Mild_encephalopathy&#45;&gt;Root_Audios_Mild_encephalopathy_files -->\n<g id=\"edge16\" class=\"edge\">\n<title>Root_Audios_Mild_encephalopathy&#45;&gt;Root_Audios_Mild_encephalopathy_files</title>\n<path fill=\"none\" stroke=\"black\" d=\"M1179.5,-71.7C1179.5,-63.98 1179.5,-54.71 1179.5,-46.11\"/>\n<polygon fill=\"black\" stroke=\"black\" points=\"1183,-46.1 1179.5,-36.1 1176,-46.1 1183,-46.1\"/>\n</g>\n<!-- Root_Audios_Severe_encephalopathy_files -->\n<g id=\"node19\" class=\"node\">\n<title>Root_Audios_Severe_encephalopathy_files</title>\n<polygon fill=\"lightcoral\" stroke=\"lightcoral\" points=\"1406.5,-36 1352.5,-36 1352.5,0 1406.5,0 1406.5,-36\"/>\n<text text-anchor=\"middle\" x=\"1379.5\" y=\"-14.3\" font-family=\"Times,serif\" font-size=\"14.00\">wav: 1</text>\n</g>\n<!-- Root_Audios_Severe_encephalopathy&#45;&gt;Root_Audios_Severe_encephalopathy_files -->\n<g id=\"edge18\" class=\"edge\">\n<title>Root_Audios_Severe_encephalopathy&#45;&gt;Root_Audios_Severe_encephalopathy_files</title>\n<path fill=\"none\" stroke=\"black\" d=\"M1379.5,-71.7C1379.5,-63.98 1379.5,-54.71 1379.5,-46.11\"/>\n<polygon fill=\"black\" stroke=\"black\" points=\"1383,-46.1 1379.5,-36.1 1376,-46.1 1383,-46.1\"/>\n</g>\n<!-- Root_Audios_Moderate_encephalopathy_files -->\n<g id=\"node21\" class=\"node\">\n<title>Root_Audios_Moderate_encephalopathy_files</title>\n<polygon fill=\"lightcoral\" stroke=\"lightcoral\" points=\"1623.5,-36 1569.5,-36 1569.5,0 1623.5,0 1623.5,-36\"/>\n<text text-anchor=\"middle\" x=\"1596.5\" y=\"-14.3\" font-family=\"Times,serif\" font-size=\"14.00\">wav: 1</text>\n</g>\n<!-- Root_Audios_Moderate_encephalopathy&#45;&gt;Root_Audios_Moderate_encephalopathy_files -->\n<g id=\"edge20\" class=\"edge\">\n<title>Root_Audios_Moderate_encephalopathy&#45;&gt;Root_Audios_Moderate_encephalopathy_files</title>\n<path fill=\"none\" stroke=\"black\" d=\"M1596.5,-71.7C1596.5,-63.98 1596.5,-54.71 1596.5,-46.11\"/>\n<polygon fill=\"black\" stroke=\"black\" points=\"1600,-46.1 1596.5,-36.1 1593,-46.1 1600,-46.1\"/>\n</g>\n<!-- Root_Audios_No_encephalopathy_files -->\n<g id=\"node23\" class=\"node\">\n<title>Root_Audios_No_encephalopathy_files</title>\n<polygon fill=\"lightcoral\" stroke=\"lightcoral\" points=\"1827.5,-36 1773.5,-36 1773.5,0 1827.5,0 1827.5,-36\"/>\n<text text-anchor=\"middle\" x=\"1800.5\" y=\"-14.3\" font-family=\"Times,serif\" font-size=\"14.00\">wav: 2</text>\n</g>\n<!-- Root_Audios_No_encephalopathy&#45;&gt;Root_Audios_No_encephalopathy_files -->\n<g id=\"edge22\" class=\"edge\">\n<title>Root_Audios_No_encephalopathy&#45;&gt;Root_Audios_No_encephalopathy_files</title>\n<path fill=\"none\" stroke=\"black\" d=\"M1800.5,-71.7C1800.5,-63.98 1800.5,-54.71 1800.5,-46.11\"/>\n<polygon fill=\"black\" stroke=\"black\" points=\"1804,-46.1 1800.5,-36.1 1797,-46.1 1804,-46.1\"/>\n</g>\n</g>\n</svg>\n",
            "text/plain": [
              "<graphviz.graphs.Digraph at 0x7e81fdb60280>"
            ]
          },
          "metadata": {},
          "execution_count": 7
        }
      ]
    }
  ]
}
